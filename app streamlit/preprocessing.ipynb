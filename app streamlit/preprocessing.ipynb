{
  "cells": [
    {
      "cell_type": "code",
      "execution_count": 5,
      "metadata": {
        "id": "mCg9nxO-mNnn"
      },
      "outputs": [],
      "source": [
        "%matplotlib inline"
      ]
    },
    {
      "cell_type": "code",
      "execution_count": 6,
      "metadata": {
        "id": "pK1HSi75mSm9"
      },
      "outputs": [],
      "source": [
        "import numpy as np\n",
        "import pandas as pd\n",
        "import matplotlib.pyplot as plt\n",
        "import seaborn as sns\n",
        "from collections import Counter\n",
        "\n",
        "from sklearn.preprocessing import MinMaxScaler, LabelEncoder\n",
        "from sklearn.model_selection import train_test_split, GridSearchCV\n",
        "from sklearn.tree import DecisionTreeClassifier, plot_tree\n",
        "from sklearn.multiclass import OneVsRestClassifier\n",
        "from sklearn.metrics import make_scorer, f1_score, accuracy_score, classification_report, confusion_matrix\n",
        "from sklearn.metrics import roc_curve, roc_auc_score\n",
        "\n",
        "from sklearn.cluster import KMeans"
      ]
    },
    {
      "cell_type": "markdown",
      "metadata": {
        "id": "qNldtQGRmt_V"
      },
      "source": [
        "Load Data"
      ]
    },
    {
      "cell_type": "code",
      "execution_count": 7,
      "metadata": {
        "id": "dpDQsScAnI41"
      },
      "outputs": [],
      "source": [
        "obesity_data = pd.read_csv(\"ObesityDataSet Cleaned and Data Sinthetic.csv\")"
      ]
    },
    {
      "cell_type": "code",
      "execution_count": 8,
      "metadata": {
        "colab": {
          "base_uri": "https://localhost:8080/",
          "height": 399
        },
        "id": "AdiujMzbm1VB",
        "outputId": "f8ce62f5-2342-443a-d119-4d0b338fc9dc"
      },
      "outputs": [
        {
          "data": {
            "text/html": [
              "<div>\n",
              "<style scoped>\n",
              "    .dataframe tbody tr th:only-of-type {\n",
              "        vertical-align: middle;\n",
              "    }\n",
              "\n",
              "    .dataframe tbody tr th {\n",
              "        vertical-align: top;\n",
              "    }\n",
              "\n",
              "    .dataframe thead th {\n",
              "        text-align: right;\n",
              "    }\n",
              "</style>\n",
              "<table border=\"1\" class=\"dataframe\">\n",
              "  <thead>\n",
              "    <tr style=\"text-align: right;\">\n",
              "      <th></th>\n",
              "      <th>id</th>\n",
              "      <th>Gender</th>\n",
              "      <th>Age</th>\n",
              "      <th>Height</th>\n",
              "      <th>Weight</th>\n",
              "      <th>family_history_with_overweight</th>\n",
              "      <th>FAVC</th>\n",
              "      <th>FCVC</th>\n",
              "      <th>NCP</th>\n",
              "      <th>CAEC</th>\n",
              "      <th>SMOKE</th>\n",
              "      <th>CH2O</th>\n",
              "      <th>SCC</th>\n",
              "      <th>FAF</th>\n",
              "      <th>TUE</th>\n",
              "      <th>CALC</th>\n",
              "      <th>MTRANS</th>\n",
              "      <th>NObeyesdad</th>\n",
              "      <th>BMI</th>\n",
              "    </tr>\n",
              "  </thead>\n",
              "  <tbody>\n",
              "    <tr>\n",
              "      <th>2106</th>\n",
              "      <td>2,107</td>\n",
              "      <td>female</td>\n",
              "      <td>21</td>\n",
              "      <td>1.71</td>\n",
              "      <td>131</td>\n",
              "      <td>yes</td>\n",
              "      <td>yes</td>\n",
              "      <td>always</td>\n",
              "      <td>3</td>\n",
              "      <td>sometimes</td>\n",
              "      <td>no</td>\n",
              "      <td>between 1 and 2 l</td>\n",
              "      <td>no</td>\n",
              "      <td>2 to 4</td>\n",
              "      <td>3 to 5</td>\n",
              "      <td>sometimes</td>\n",
              "      <td>public_transportation</td>\n",
              "      <td>obesity_type_iii</td>\n",
              "      <td>44.901475</td>\n",
              "    </tr>\n",
              "    <tr>\n",
              "      <th>2107</th>\n",
              "      <td>2,108</td>\n",
              "      <td>female</td>\n",
              "      <td>22</td>\n",
              "      <td>1.75</td>\n",
              "      <td>134</td>\n",
              "      <td>yes</td>\n",
              "      <td>yes</td>\n",
              "      <td>always</td>\n",
              "      <td>3</td>\n",
              "      <td>sometimes</td>\n",
              "      <td>no</td>\n",
              "      <td>between 1 and 2 l</td>\n",
              "      <td>no</td>\n",
              "      <td>1 to 2</td>\n",
              "      <td>3 to 5</td>\n",
              "      <td>sometimes</td>\n",
              "      <td>public_transportation</td>\n",
              "      <td>obesity_type_iii</td>\n",
              "      <td>43.741923</td>\n",
              "    </tr>\n",
              "    <tr>\n",
              "      <th>2108</th>\n",
              "      <td>2,109</td>\n",
              "      <td>female</td>\n",
              "      <td>23</td>\n",
              "      <td>1.75</td>\n",
              "      <td>134</td>\n",
              "      <td>yes</td>\n",
              "      <td>yes</td>\n",
              "      <td>always</td>\n",
              "      <td>3</td>\n",
              "      <td>sometimes</td>\n",
              "      <td>no</td>\n",
              "      <td>between 1 and 2 l</td>\n",
              "      <td>no</td>\n",
              "      <td>1 to 2</td>\n",
              "      <td>3 to 5</td>\n",
              "      <td>sometimes</td>\n",
              "      <td>public_transportation</td>\n",
              "      <td>obesity_type_iii</td>\n",
              "      <td>43.543817</td>\n",
              "    </tr>\n",
              "    <tr>\n",
              "      <th>2109</th>\n",
              "      <td>2,110</td>\n",
              "      <td>female</td>\n",
              "      <td>24</td>\n",
              "      <td>1.74</td>\n",
              "      <td>133</td>\n",
              "      <td>yes</td>\n",
              "      <td>yes</td>\n",
              "      <td>always</td>\n",
              "      <td>3</td>\n",
              "      <td>sometimes</td>\n",
              "      <td>no</td>\n",
              "      <td>more than 2 l</td>\n",
              "      <td>no</td>\n",
              "      <td>1 to 2</td>\n",
              "      <td>3 to 5</td>\n",
              "      <td>sometimes</td>\n",
              "      <td>public_transportation</td>\n",
              "      <td>obesity_type_iii</td>\n",
              "      <td>44.071535</td>\n",
              "    </tr>\n",
              "    <tr>\n",
              "      <th>2110</th>\n",
              "      <td>2,111</td>\n",
              "      <td>female</td>\n",
              "      <td>24</td>\n",
              "      <td>1.74</td>\n",
              "      <td>133</td>\n",
              "      <td>yes</td>\n",
              "      <td>yes</td>\n",
              "      <td>always</td>\n",
              "      <td>3</td>\n",
              "      <td>sometimes</td>\n",
              "      <td>no</td>\n",
              "      <td>more than 2 l</td>\n",
              "      <td>no</td>\n",
              "      <td>1 to 2</td>\n",
              "      <td>3 to 5</td>\n",
              "      <td>sometimes</td>\n",
              "      <td>public_transportation</td>\n",
              "      <td>obesity_type_iii</td>\n",
              "      <td>44.144338</td>\n",
              "    </tr>\n",
              "  </tbody>\n",
              "</table>\n",
              "</div>"
            ],
            "text/plain": [
              "         id  Gender  Age  Height  Weight family_history_with_overweight FAVC  \\\n",
              "2106  2,107  female   21    1.71     131                            yes  yes   \n",
              "2107  2,108  female   22    1.75     134                            yes  yes   \n",
              "2108  2,109  female   23    1.75     134                            yes  yes   \n",
              "2109  2,110  female   24    1.74     133                            yes  yes   \n",
              "2110  2,111  female   24    1.74     133                            yes  yes   \n",
              "\n",
              "        FCVC  NCP       CAEC SMOKE               CH2O SCC     FAF     TUE  \\\n",
              "2106  always    3  sometimes    no  between 1 and 2 l  no  2 to 4  3 to 5   \n",
              "2107  always    3  sometimes    no  between 1 and 2 l  no  1 to 2  3 to 5   \n",
              "2108  always    3  sometimes    no  between 1 and 2 l  no  1 to 2  3 to 5   \n",
              "2109  always    3  sometimes    no      more than 2 l  no  1 to 2  3 to 5   \n",
              "2110  always    3  sometimes    no      more than 2 l  no  1 to 2  3 to 5   \n",
              "\n",
              "           CALC                 MTRANS        NObeyesdad        BMI  \n",
              "2106  sometimes  public_transportation  obesity_type_iii  44.901475  \n",
              "2107  sometimes  public_transportation  obesity_type_iii  43.741923  \n",
              "2108  sometimes  public_transportation  obesity_type_iii  43.543817  \n",
              "2109  sometimes  public_transportation  obesity_type_iii  44.071535  \n",
              "2110  sometimes  public_transportation  obesity_type_iii  44.144338  "
            ]
          },
          "execution_count": 8,
          "metadata": {},
          "output_type": "execute_result"
        }
      ],
      "source": [
        "obesity_data.tail()"
      ]
    },
    {
      "cell_type": "code",
      "execution_count": 9,
      "metadata": {
        "colab": {
          "base_uri": "https://localhost:8080/",
          "height": 790
        },
        "id": "tzdJI1joRzRG",
        "outputId": "0a931dfa-274c-46f3-e85a-5ca57f083e8d"
      },
      "outputs": [
        {
          "data": {
            "text/html": [
              "<div>\n",
              "<style scoped>\n",
              "    .dataframe tbody tr th:only-of-type {\n",
              "        vertical-align: middle;\n",
              "    }\n",
              "\n",
              "    .dataframe tbody tr th {\n",
              "        vertical-align: top;\n",
              "    }\n",
              "\n",
              "    .dataframe thead th {\n",
              "        text-align: right;\n",
              "    }\n",
              "</style>\n",
              "<table border=\"1\" class=\"dataframe\">\n",
              "  <thead>\n",
              "    <tr style=\"text-align: right;\">\n",
              "      <th></th>\n",
              "      <th>id</th>\n",
              "      <th>Gender</th>\n",
              "      <th>Age</th>\n",
              "      <th>Height</th>\n",
              "      <th>Weight</th>\n",
              "      <th>family_history_with_overweight</th>\n",
              "      <th>FAVC</th>\n",
              "      <th>FCVC</th>\n",
              "      <th>NCP</th>\n",
              "      <th>CAEC</th>\n",
              "      <th>SMOKE</th>\n",
              "      <th>CH2O</th>\n",
              "      <th>SCC</th>\n",
              "      <th>FAF</th>\n",
              "      <th>TUE</th>\n",
              "      <th>CALC</th>\n",
              "      <th>MTRANS</th>\n",
              "      <th>NObeyesdad</th>\n",
              "      <th>BMI</th>\n",
              "    </tr>\n",
              "  </thead>\n",
              "  <tbody>\n",
              "    <tr>\n",
              "      <th>0</th>\n",
              "      <td>1</td>\n",
              "      <td>female</td>\n",
              "      <td>21</td>\n",
              "      <td>1.62</td>\n",
              "      <td>64</td>\n",
              "      <td>yes</td>\n",
              "      <td>no</td>\n",
              "      <td>sometimes</td>\n",
              "      <td>3</td>\n",
              "      <td>sometimes</td>\n",
              "      <td>no</td>\n",
              "      <td>between 1 and 2 l</td>\n",
              "      <td>no</td>\n",
              "      <td>0</td>\n",
              "      <td>3 to 5</td>\n",
              "      <td>no</td>\n",
              "      <td>public_transportation</td>\n",
              "      <td>normal_weight</td>\n",
              "      <td>24.386526</td>\n",
              "    </tr>\n",
              "    <tr>\n",
              "      <th>1</th>\n",
              "      <td>2</td>\n",
              "      <td>female</td>\n",
              "      <td>21</td>\n",
              "      <td>1.52</td>\n",
              "      <td>56</td>\n",
              "      <td>yes</td>\n",
              "      <td>no</td>\n",
              "      <td>always</td>\n",
              "      <td>3</td>\n",
              "      <td>sometimes</td>\n",
              "      <td>yes</td>\n",
              "      <td>more than 2 l</td>\n",
              "      <td>yes</td>\n",
              "      <td>4 to 5</td>\n",
              "      <td>0 to 2</td>\n",
              "      <td>sometimes</td>\n",
              "      <td>public_transportation</td>\n",
              "      <td>normal_weight</td>\n",
              "      <td>24.238227</td>\n",
              "    </tr>\n",
              "    <tr>\n",
              "      <th>2</th>\n",
              "      <td>3</td>\n",
              "      <td>male</td>\n",
              "      <td>23</td>\n",
              "      <td>1.80</td>\n",
              "      <td>77</td>\n",
              "      <td>yes</td>\n",
              "      <td>no</td>\n",
              "      <td>sometimes</td>\n",
              "      <td>3</td>\n",
              "      <td>sometimes</td>\n",
              "      <td>no</td>\n",
              "      <td>between 1 and 2 l</td>\n",
              "      <td>no</td>\n",
              "      <td>2 to 4</td>\n",
              "      <td>3 to 5</td>\n",
              "      <td>frequently</td>\n",
              "      <td>public_transportation</td>\n",
              "      <td>normal_weight</td>\n",
              "      <td>23.765432</td>\n",
              "    </tr>\n",
              "    <tr>\n",
              "      <th>3</th>\n",
              "      <td>4</td>\n",
              "      <td>male</td>\n",
              "      <td>27</td>\n",
              "      <td>1.80</td>\n",
              "      <td>87</td>\n",
              "      <td>no</td>\n",
              "      <td>no</td>\n",
              "      <td>always</td>\n",
              "      <td>3</td>\n",
              "      <td>sometimes</td>\n",
              "      <td>no</td>\n",
              "      <td>between 1 and 2 l</td>\n",
              "      <td>no</td>\n",
              "      <td>2 to 4</td>\n",
              "      <td>0 to 2</td>\n",
              "      <td>frequently</td>\n",
              "      <td>walking</td>\n",
              "      <td>overweight_level_i</td>\n",
              "      <td>26.851852</td>\n",
              "    </tr>\n",
              "    <tr>\n",
              "      <th>4</th>\n",
              "      <td>5</td>\n",
              "      <td>male</td>\n",
              "      <td>22</td>\n",
              "      <td>1.78</td>\n",
              "      <td>90</td>\n",
              "      <td>no</td>\n",
              "      <td>no</td>\n",
              "      <td>sometimes</td>\n",
              "      <td>1</td>\n",
              "      <td>sometimes</td>\n",
              "      <td>no</td>\n",
              "      <td>between 1 and 2 l</td>\n",
              "      <td>no</td>\n",
              "      <td>0</td>\n",
              "      <td>0 to 2</td>\n",
              "      <td>sometimes</td>\n",
              "      <td>public_transportation</td>\n",
              "      <td>overweight_level_ii</td>\n",
              "      <td>28.342381</td>\n",
              "    </tr>\n",
              "    <tr>\n",
              "      <th>...</th>\n",
              "      <td>...</td>\n",
              "      <td>...</td>\n",
              "      <td>...</td>\n",
              "      <td>...</td>\n",
              "      <td>...</td>\n",
              "      <td>...</td>\n",
              "      <td>...</td>\n",
              "      <td>...</td>\n",
              "      <td>...</td>\n",
              "      <td>...</td>\n",
              "      <td>...</td>\n",
              "      <td>...</td>\n",
              "      <td>...</td>\n",
              "      <td>...</td>\n",
              "      <td>...</td>\n",
              "      <td>...</td>\n",
              "      <td>...</td>\n",
              "      <td>...</td>\n",
              "      <td>...</td>\n",
              "    </tr>\n",
              "    <tr>\n",
              "      <th>2106</th>\n",
              "      <td>2,107</td>\n",
              "      <td>female</td>\n",
              "      <td>21</td>\n",
              "      <td>1.71</td>\n",
              "      <td>131</td>\n",
              "      <td>yes</td>\n",
              "      <td>yes</td>\n",
              "      <td>always</td>\n",
              "      <td>3</td>\n",
              "      <td>sometimes</td>\n",
              "      <td>no</td>\n",
              "      <td>between 1 and 2 l</td>\n",
              "      <td>no</td>\n",
              "      <td>2 to 4</td>\n",
              "      <td>3 to 5</td>\n",
              "      <td>sometimes</td>\n",
              "      <td>public_transportation</td>\n",
              "      <td>obesity_type_iii</td>\n",
              "      <td>44.901475</td>\n",
              "    </tr>\n",
              "    <tr>\n",
              "      <th>2107</th>\n",
              "      <td>2,108</td>\n",
              "      <td>female</td>\n",
              "      <td>22</td>\n",
              "      <td>1.75</td>\n",
              "      <td>134</td>\n",
              "      <td>yes</td>\n",
              "      <td>yes</td>\n",
              "      <td>always</td>\n",
              "      <td>3</td>\n",
              "      <td>sometimes</td>\n",
              "      <td>no</td>\n",
              "      <td>between 1 and 2 l</td>\n",
              "      <td>no</td>\n",
              "      <td>1 to 2</td>\n",
              "      <td>3 to 5</td>\n",
              "      <td>sometimes</td>\n",
              "      <td>public_transportation</td>\n",
              "      <td>obesity_type_iii</td>\n",
              "      <td>43.741923</td>\n",
              "    </tr>\n",
              "    <tr>\n",
              "      <th>2108</th>\n",
              "      <td>2,109</td>\n",
              "      <td>female</td>\n",
              "      <td>23</td>\n",
              "      <td>1.75</td>\n",
              "      <td>134</td>\n",
              "      <td>yes</td>\n",
              "      <td>yes</td>\n",
              "      <td>always</td>\n",
              "      <td>3</td>\n",
              "      <td>sometimes</td>\n",
              "      <td>no</td>\n",
              "      <td>between 1 and 2 l</td>\n",
              "      <td>no</td>\n",
              "      <td>1 to 2</td>\n",
              "      <td>3 to 5</td>\n",
              "      <td>sometimes</td>\n",
              "      <td>public_transportation</td>\n",
              "      <td>obesity_type_iii</td>\n",
              "      <td>43.543817</td>\n",
              "    </tr>\n",
              "    <tr>\n",
              "      <th>2109</th>\n",
              "      <td>2,110</td>\n",
              "      <td>female</td>\n",
              "      <td>24</td>\n",
              "      <td>1.74</td>\n",
              "      <td>133</td>\n",
              "      <td>yes</td>\n",
              "      <td>yes</td>\n",
              "      <td>always</td>\n",
              "      <td>3</td>\n",
              "      <td>sometimes</td>\n",
              "      <td>no</td>\n",
              "      <td>more than 2 l</td>\n",
              "      <td>no</td>\n",
              "      <td>1 to 2</td>\n",
              "      <td>3 to 5</td>\n",
              "      <td>sometimes</td>\n",
              "      <td>public_transportation</td>\n",
              "      <td>obesity_type_iii</td>\n",
              "      <td>44.071535</td>\n",
              "    </tr>\n",
              "    <tr>\n",
              "      <th>2110</th>\n",
              "      <td>2,111</td>\n",
              "      <td>female</td>\n",
              "      <td>24</td>\n",
              "      <td>1.74</td>\n",
              "      <td>133</td>\n",
              "      <td>yes</td>\n",
              "      <td>yes</td>\n",
              "      <td>always</td>\n",
              "      <td>3</td>\n",
              "      <td>sometimes</td>\n",
              "      <td>no</td>\n",
              "      <td>more than 2 l</td>\n",
              "      <td>no</td>\n",
              "      <td>1 to 2</td>\n",
              "      <td>3 to 5</td>\n",
              "      <td>sometimes</td>\n",
              "      <td>public_transportation</td>\n",
              "      <td>obesity_type_iii</td>\n",
              "      <td>44.144338</td>\n",
              "    </tr>\n",
              "  </tbody>\n",
              "</table>\n",
              "<p>2111 rows × 19 columns</p>\n",
              "</div>"
            ],
            "text/plain": [
              "         id  Gender  Age  Height  Weight family_history_with_overweight FAVC  \\\n",
              "0         1  female   21    1.62      64                            yes   no   \n",
              "1         2  female   21    1.52      56                            yes   no   \n",
              "2         3    male   23    1.80      77                            yes   no   \n",
              "3         4    male   27    1.80      87                             no   no   \n",
              "4         5    male   22    1.78      90                             no   no   \n",
              "...     ...     ...  ...     ...     ...                            ...  ...   \n",
              "2106  2,107  female   21    1.71     131                            yes  yes   \n",
              "2107  2,108  female   22    1.75     134                            yes  yes   \n",
              "2108  2,109  female   23    1.75     134                            yes  yes   \n",
              "2109  2,110  female   24    1.74     133                            yes  yes   \n",
              "2110  2,111  female   24    1.74     133                            yes  yes   \n",
              "\n",
              "           FCVC  NCP       CAEC SMOKE               CH2O  SCC     FAF     TUE  \\\n",
              "0     sometimes    3  sometimes    no  between 1 and 2 l   no       0  3 to 5   \n",
              "1        always    3  sometimes   yes      more than 2 l  yes  4 to 5  0 to 2   \n",
              "2     sometimes    3  sometimes    no  between 1 and 2 l   no  2 to 4  3 to 5   \n",
              "3        always    3  sometimes    no  between 1 and 2 l   no  2 to 4  0 to 2   \n",
              "4     sometimes    1  sometimes    no  between 1 and 2 l   no       0  0 to 2   \n",
              "...         ...  ...        ...   ...                ...  ...     ...     ...   \n",
              "2106     always    3  sometimes    no  between 1 and 2 l   no  2 to 4  3 to 5   \n",
              "2107     always    3  sometimes    no  between 1 and 2 l   no  1 to 2  3 to 5   \n",
              "2108     always    3  sometimes    no  between 1 and 2 l   no  1 to 2  3 to 5   \n",
              "2109     always    3  sometimes    no      more than 2 l   no  1 to 2  3 to 5   \n",
              "2110     always    3  sometimes    no      more than 2 l   no  1 to 2  3 to 5   \n",
              "\n",
              "            CALC                 MTRANS           NObeyesdad        BMI  \n",
              "0             no  public_transportation        normal_weight  24.386526  \n",
              "1      sometimes  public_transportation        normal_weight  24.238227  \n",
              "2     frequently  public_transportation        normal_weight  23.765432  \n",
              "3     frequently                walking   overweight_level_i  26.851852  \n",
              "4      sometimes  public_transportation  overweight_level_ii  28.342381  \n",
              "...          ...                    ...                  ...        ...  \n",
              "2106   sometimes  public_transportation     obesity_type_iii  44.901475  \n",
              "2107   sometimes  public_transportation     obesity_type_iii  43.741923  \n",
              "2108   sometimes  public_transportation     obesity_type_iii  43.543817  \n",
              "2109   sometimes  public_transportation     obesity_type_iii  44.071535  \n",
              "2110   sometimes  public_transportation     obesity_type_iii  44.144338  \n",
              "\n",
              "[2111 rows x 19 columns]"
            ]
          },
          "execution_count": 9,
          "metadata": {},
          "output_type": "execute_result"
        }
      ],
      "source": [
        "obesity_data"
      ]
    },
    {
      "cell_type": "code",
      "execution_count": 10,
      "metadata": {
        "colab": {
          "base_uri": "https://localhost:8080/"
        },
        "id": "MyyEyRG9m26E",
        "outputId": "03c87133-3fb4-457a-8975-57fda08b0e58"
      },
      "outputs": [
        {
          "data": {
            "text/plain": [
              "(2111, 19)"
            ]
          },
          "execution_count": 10,
          "metadata": {},
          "output_type": "execute_result"
        }
      ],
      "source": [
        "obesity_data.shape"
      ]
    },
    {
      "cell_type": "markdown",
      "metadata": {
        "id": "EixO00OZR8Rj"
      },
      "source": [
        "Dataset has 2111 rows and 17 columns"
      ]
    },
    {
      "cell_type": "code",
      "execution_count": 11,
      "metadata": {
        "colab": {
          "base_uri": "https://localhost:8080/"
        },
        "id": "RNMuOPOQSCtQ",
        "outputId": "aa2f9181-f2f9-4f1b-c8ab-e6b81e65b670"
      },
      "outputs": [
        {
          "data": {
            "text/plain": [
              "id                                 object\n",
              "Gender                             object\n",
              "Age                                 int64\n",
              "Height                            float64\n",
              "Weight                              int64\n",
              "family_history_with_overweight     object\n",
              "FAVC                               object\n",
              "FCVC                               object\n",
              "NCP                                 int64\n",
              "CAEC                               object\n",
              "SMOKE                              object\n",
              "CH2O                               object\n",
              "SCC                                object\n",
              "FAF                                object\n",
              "TUE                                object\n",
              "CALC                               object\n",
              "MTRANS                             object\n",
              "NObeyesdad                         object\n",
              "BMI                               float64\n",
              "dtype: object"
            ]
          },
          "execution_count": 11,
          "metadata": {},
          "output_type": "execute_result"
        }
      ],
      "source": [
        "obesity_data.dtypes"
      ]
    },
    {
      "cell_type": "code",
      "execution_count": 12,
      "metadata": {
        "colab": {
          "base_uri": "https://localhost:8080/"
        },
        "id": "fwzswtQYSOQM",
        "outputId": "40cb6e3f-00bc-4284-f794-6bf5d35bce78"
      },
      "outputs": [
        {
          "data": {
            "text/plain": [
              "id                                0\n",
              "Gender                            0\n",
              "Age                               0\n",
              "Height                            0\n",
              "Weight                            0\n",
              "family_history_with_overweight    0\n",
              "FAVC                              0\n",
              "FCVC                              0\n",
              "NCP                               0\n",
              "CAEC                              0\n",
              "SMOKE                             0\n",
              "CH2O                              0\n",
              "SCC                               0\n",
              "FAF                               0\n",
              "TUE                               0\n",
              "CALC                              0\n",
              "MTRANS                            0\n",
              "NObeyesdad                        0\n",
              "BMI                               0\n",
              "dtype: int64"
            ]
          },
          "execution_count": 12,
          "metadata": {},
          "output_type": "execute_result"
        }
      ],
      "source": [
        "obesity_data.isnull().sum()"
      ]
    },
    {
      "cell_type": "markdown",
      "metadata": {
        "id": "NW8MDDEGnQ2u"
      },
      "source": [
        "# **Exploratory Data Analysis**"
      ]
    },
    {
      "cell_type": "code",
      "execution_count": 13,
      "metadata": {
        "colab": {
          "base_uri": "https://localhost:8080/"
        },
        "id": "1NbwTzVhnPPm",
        "outputId": "f4f82ed9-10e8-4478-9110-0f71fa756fb8"
      },
      "outputs": [
        {
          "name": "stdout",
          "output_type": "stream",
          "text": [
            "<class 'pandas.core.frame.DataFrame'>\n",
            "RangeIndex: 2111 entries, 0 to 2110\n",
            "Data columns (total 19 columns):\n",
            " #   Column                          Non-Null Count  Dtype  \n",
            "---  ------                          --------------  -----  \n",
            " 0   id                              2111 non-null   object \n",
            " 1   Gender                          2111 non-null   object \n",
            " 2   Age                             2111 non-null   int64  \n",
            " 3   Height                          2111 non-null   float64\n",
            " 4   Weight                          2111 non-null   int64  \n",
            " 5   family_history_with_overweight  2111 non-null   object \n",
            " 6   FAVC                            2111 non-null   object \n",
            " 7   FCVC                            2111 non-null   object \n",
            " 8   NCP                             2111 non-null   int64  \n",
            " 9   CAEC                            2111 non-null   object \n",
            " 10  SMOKE                           2111 non-null   object \n",
            " 11  CH2O                            2111 non-null   object \n",
            " 12  SCC                             2111 non-null   object \n",
            " 13  FAF                             2111 non-null   object \n",
            " 14  TUE                             2111 non-null   object \n",
            " 15  CALC                            2111 non-null   object \n",
            " 16  MTRANS                          2111 non-null   object \n",
            " 17  NObeyesdad                      2111 non-null   object \n",
            " 18  BMI                             2111 non-null   float64\n",
            "dtypes: float64(2), int64(3), object(14)\n",
            "memory usage: 313.5+ KB\n"
          ]
        }
      ],
      "source": [
        "obesity_data.info()"
      ]
    },
    {
      "cell_type": "code",
      "execution_count": 14,
      "metadata": {
        "colab": {
          "base_uri": "https://localhost:8080/",
          "height": 300
        },
        "id": "FaCX1q10S_vs",
        "outputId": "d347b1cc-7393-4171-d3a7-7b13588f18ff"
      },
      "outputs": [
        {
          "data": {
            "text/html": [
              "<div>\n",
              "<style scoped>\n",
              "    .dataframe tbody tr th:only-of-type {\n",
              "        vertical-align: middle;\n",
              "    }\n",
              "\n",
              "    .dataframe tbody tr th {\n",
              "        vertical-align: top;\n",
              "    }\n",
              "\n",
              "    .dataframe thead th {\n",
              "        text-align: right;\n",
              "    }\n",
              "</style>\n",
              "<table border=\"1\" class=\"dataframe\">\n",
              "  <thead>\n",
              "    <tr style=\"text-align: right;\">\n",
              "      <th></th>\n",
              "      <th>Age</th>\n",
              "      <th>Height</th>\n",
              "      <th>Weight</th>\n",
              "      <th>NCP</th>\n",
              "      <th>BMI</th>\n",
              "    </tr>\n",
              "  </thead>\n",
              "  <tbody>\n",
              "    <tr>\n",
              "      <th>count</th>\n",
              "      <td>2111.000000</td>\n",
              "      <td>2111.000000</td>\n",
              "      <td>2111.000000</td>\n",
              "      <td>2111.000000</td>\n",
              "      <td>2111.000000</td>\n",
              "    </tr>\n",
              "    <tr>\n",
              "      <th>mean</th>\n",
              "      <td>24.315964</td>\n",
              "      <td>1.701715</td>\n",
              "      <td>86.588820</td>\n",
              "      <td>2.687826</td>\n",
              "      <td>29.700159</td>\n",
              "    </tr>\n",
              "    <tr>\n",
              "      <th>std</th>\n",
              "      <td>6.357078</td>\n",
              "      <td>0.093569</td>\n",
              "      <td>26.188572</td>\n",
              "      <td>0.809680</td>\n",
              "      <td>8.011337</td>\n",
              "    </tr>\n",
              "    <tr>\n",
              "      <th>min</th>\n",
              "      <td>14.000000</td>\n",
              "      <td>1.450000</td>\n",
              "      <td>39.000000</td>\n",
              "      <td>1.000000</td>\n",
              "      <td>12.998685</td>\n",
              "    </tr>\n",
              "    <tr>\n",
              "      <th>25%</th>\n",
              "      <td>20.000000</td>\n",
              "      <td>1.630000</td>\n",
              "      <td>65.500000</td>\n",
              "      <td>3.000000</td>\n",
              "      <td>24.325802</td>\n",
              "    </tr>\n",
              "    <tr>\n",
              "      <th>50%</th>\n",
              "      <td>23.000000</td>\n",
              "      <td>1.700000</td>\n",
              "      <td>83.000000</td>\n",
              "      <td>3.000000</td>\n",
              "      <td>28.719089</td>\n",
              "    </tr>\n",
              "    <tr>\n",
              "      <th>75%</th>\n",
              "      <td>26.000000</td>\n",
              "      <td>1.770000</td>\n",
              "      <td>107.000000</td>\n",
              "      <td>3.000000</td>\n",
              "      <td>36.016501</td>\n",
              "    </tr>\n",
              "    <tr>\n",
              "      <th>max</th>\n",
              "      <td>61.000000</td>\n",
              "      <td>2.000000</td>\n",
              "      <td>173.000000</td>\n",
              "      <td>4.000000</td>\n",
              "      <td>50.811753</td>\n",
              "    </tr>\n",
              "  </tbody>\n",
              "</table>\n",
              "</div>"
            ],
            "text/plain": [
              "               Age       Height       Weight          NCP          BMI\n",
              "count  2111.000000  2111.000000  2111.000000  2111.000000  2111.000000\n",
              "mean     24.315964     1.701715    86.588820     2.687826    29.700159\n",
              "std       6.357078     0.093569    26.188572     0.809680     8.011337\n",
              "min      14.000000     1.450000    39.000000     1.000000    12.998685\n",
              "25%      20.000000     1.630000    65.500000     3.000000    24.325802\n",
              "50%      23.000000     1.700000    83.000000     3.000000    28.719089\n",
              "75%      26.000000     1.770000   107.000000     3.000000    36.016501\n",
              "max      61.000000     2.000000   173.000000     4.000000    50.811753"
            ]
          },
          "execution_count": 14,
          "metadata": {},
          "output_type": "execute_result"
        }
      ],
      "source": [
        "obesity_data.describe()"
      ]
    },
    {
      "cell_type": "code",
      "execution_count": 15,
      "metadata": {
        "colab": {
          "base_uri": "https://localhost:8080/"
        },
        "id": "FXFkkA-0SnHY",
        "outputId": "4a0e63d7-924d-42cb-f7f1-74e0f00ebf5d"
      },
      "outputs": [
        {
          "data": {
            "text/plain": [
              "count               2111\n",
              "unique                 7\n",
              "top       obesity_type_i\n",
              "freq                 351\n",
              "Name: NObeyesdad, dtype: object"
            ]
          },
          "execution_count": 15,
          "metadata": {},
          "output_type": "execute_result"
        }
      ],
      "source": [
        "obesity_data['NObeyesdad'].describe()"
      ]
    },
    {
      "cell_type": "code",
      "execution_count": 16,
      "metadata": {
        "colab": {
          "base_uri": "https://localhost:8080/"
        },
        "id": "TTule4netDNB",
        "outputId": "d9eac3bd-86f8-498a-e5cd-fd8bfcac865b"
      },
      "outputs": [
        {
          "name": "stdout",
          "output_type": "stream",
          "text": [
            "id:\n",
            "id\n",
            "1        1\n",
            "1,419    1\n",
            "1,417    1\n",
            "1,416    1\n",
            "1,415    1\n",
            "        ..\n",
            "699      1\n",
            "698      1\n",
            "697      1\n",
            "696      1\n",
            "2,111    1\n",
            "Name: count, Length: 2111, dtype: int64\n",
            "\n",
            "Gender:\n",
            "Gender\n",
            "male      1068\n",
            "female    1043\n",
            "Name: count, dtype: int64\n",
            "\n",
            "family_history_with_overweight:\n",
            "family_history_with_overweight\n",
            "yes    1726\n",
            "no      385\n",
            "Name: count, dtype: int64\n",
            "\n",
            "FAVC:\n",
            "FAVC\n",
            "yes    1866\n",
            "no      245\n",
            "Name: count, dtype: int64\n",
            "\n",
            "FCVC:\n",
            "FCVC\n",
            "sometimes    1013\n",
            "always        996\n",
            "never         102\n",
            "Name: count, dtype: int64\n",
            "\n",
            "CAEC:\n",
            "CAEC\n",
            "sometimes     1765\n",
            "frequently     242\n",
            "always          53\n",
            "no              51\n",
            "Name: count, dtype: int64\n",
            "\n",
            "SMOKE:\n",
            "SMOKE\n",
            "no     2067\n",
            "yes      44\n",
            "Name: count, dtype: int64\n",
            "\n",
            "CH2O:\n",
            "CH2O\n",
            "between 1 and 2 l    1110\n",
            "more than 2 l         516\n",
            "less than a liter     485\n",
            "Name: count, dtype: int64\n",
            "\n",
            "SCC:\n",
            "SCC\n",
            "no     2015\n",
            "yes      96\n",
            "Name: count, dtype: int64\n",
            "\n",
            "FAF:\n",
            "FAF\n",
            "1 to 2    776\n",
            "0         720\n",
            "2 to 4    496\n",
            "4 to 5    119\n",
            "Name: count, dtype: int64\n",
            "\n",
            "TUE:\n",
            "TUE\n",
            "0 to 2    952\n",
            "3 to 5    915\n",
            ">5        244\n",
            "Name: count, dtype: int64\n",
            "\n",
            "CALC:\n",
            "CALC\n",
            "sometimes     1401\n",
            "no             639\n",
            "frequently      70\n",
            "always           1\n",
            "Name: count, dtype: int64\n",
            "\n",
            "MTRANS:\n",
            "MTRANS\n",
            "public_transportation    1580\n",
            "automobile                457\n",
            "walking                    56\n",
            "motorbike                  11\n",
            "bike                        7\n",
            "Name: count, dtype: int64\n",
            "\n",
            "NObeyesdad:\n",
            "NObeyesdad\n",
            "obesity_type_i         351\n",
            "obesity_type_iii       324\n",
            "obesity_type_ii        297\n",
            "overweight_level_i     290\n",
            "overweight_level_ii    290\n",
            "normal_weight          287\n",
            "insufficient_weight    272\n",
            "Name: count, dtype: int64\n",
            "\n"
          ]
        }
      ],
      "source": [
        "# Melihat jumlah nilai unik untuk setiap fitur kategorikal\n",
        "for column in obesity_data.select_dtypes(include=['object']).columns:\n",
        "    print(column + \":\")\n",
        "    print(obesity_data[column].value_counts())\n",
        "    print()"
      ]
    },
    {
      "cell_type": "code",
      "execution_count": 17,
      "metadata": {
        "colab": {
          "base_uri": "https://localhost:8080/",
          "height": 528
        },
        "id": "_4EcmBDptPce",
        "outputId": "4d7c1a7f-4a62-4b70-8c8f-dd18e35d29cb"
      },
      "outputs": [
        {
          "data": {
            "image/png": "[encoded data removed]",
            "text/plain": [
              "<Figure size 1500x600 with 1 Axes>"
            ]
          },
          "metadata": {},
          "output_type": "display_data"
        }
      ],
      "source": [
        "# Visualisasi distribusi target\n",
        "plt.figure(figsize=(15, 6))\n",
        "sns.countplot(data=obesity_data, x='NObeyesdad')\n",
        "plt.title('Distribution of Obesity Levels')\n",
        "plt.xlabel('Obesity Level')\n",
        "plt.ylabel('Count')\n",
        "plt.show()"
      ]
    },
    {
      "cell_type": "code",
      "execution_count": 18,
      "metadata": {
        "colab": {
          "base_uri": "https://localhost:8080/",
          "height": 379
        },
        "id": "H9a3DHbOtde7",
        "outputId": "83ae26d1-c1e8-4fb7-c417-615f528f3950"
      },
      "outputs": [
        {
          "data": {
            "image/png": "[encoded data removed]",
            "text/plain": [
              "<Figure size 1500x1000 with 2 Axes>"
            ]
          },
          "metadata": {},
          "output_type": "display_data"
        }
      ],
      "source": [
        "# Visualisasi distribusi fitur numerik\n",
        "numeric_features = obesity_data.select_dtypes(include=['float64'])\n",
        "plt.figure(figsize=(15, 10))\n",
        "for i, col in enumerate(numeric_features.columns):\n",
        "    plt.subplot(3, 3, i + 1)\n",
        "    sns.histplot(data=obesity_data, x=col, kde=True)\n",
        "    plt.title(col)\n",
        "plt.tight_layout()\n",
        "plt.show()"
      ]
    },
    {
      "cell_type": "code",
      "execution_count": 19,
      "metadata": {
        "colab": {
          "base_uri": "https://localhost:8080/",
          "height": 699
        },
        "id": "jsxNCc5utyVT",
        "outputId": "c4b11a87-3170-4b2a-d31b-78b4faad5733"
      },
      "outputs": [
        {
          "data": {
            "image/png": "[encoded data removed]",
            "text/plain": [
              "<Figure size 1000x800 with 2 Axes>"
            ]
          },
          "metadata": {},
          "output_type": "display_data"
        }
      ],
      "source": [
        "# Menghilangkan kolom kategorikal sebelum menghitung korelasi\n",
        "numeric_features = obesity_data.select_dtypes(include=['float64'])\n",
        "\n",
        "# Korelasi antar fitur numerik\n",
        "plt.figure(figsize=(10, 8))\n",
        "sns.heatmap(numeric_features.corr(), annot=True, cmap='coolwarm')\n",
        "plt.title('Correlation Matrix')\n",
        "plt.show()"
      ]
    },
    {
      "cell_type": "markdown",
      "metadata": {
        "id": "g-YIHY8DuZRA"
      },
      "source": [
        "# **Preprocessing**"
      ]
    },
    {
      "cell_type": "code",
      "execution_count": 20,
      "metadata": {
        "id": "BBQhLrj4IsmD"
      },
      "outputs": [
        {
          "name": "stderr",
          "output_type": "stream",
          "text": [
            "/var/folders/4s/bfs93j3x2rl1nkns6mld6m_w0000gn/T/ipykernel_2561/798984181.py:2: FutureWarning: Downcasting behavior in `replace` is deprecated and will be removed in a future version. To retain the old behavior, explicitly call `result.infer_objects(copy=False)`. To opt-in to the future behavior, set `pd.set_option('future.no_silent_downcasting', True)`\n",
            "  obesity_data.replace(\"no\",0,inplace=True)\n"
          ]
        }
      ],
      "source": [
        "obesity_data.replace(\"yes\",1,inplace=True)\n",
        "obesity_data.replace(\"no\",0,inplace=True)\n",
        "\n",
        "#target=obesity_data[\"NObeyesdad\"]\n",
        "#obesity_data.drop([\"NObeyesdad\"], axis=1, inplace=True)\n",
        "obesity_data.drop([\"id\"], axis=1, inplace=True)"
      ]
    },
    {
      "cell_type": "code",
      "execution_count": 21,
      "metadata": {
        "id": "aoW6c0Zqcw0v"
      },
      "outputs": [
        {
          "name": "stderr",
          "output_type": "stream",
          "text": [
            "/var/folders/4s/bfs93j3x2rl1nkns6mld6m_w0000gn/T/ipykernel_2561/2139918140.py:3: FutureWarning: Downcasting behavior in `replace` is deprecated and will be removed in a future version. To retain the old behavior, explicitly call `result.infer_objects(copy=False)`. To opt-in to the future behavior, set `pd.set_option('future.no_silent_downcasting', True)`\n",
            "  obesity_data.replace(\"male\",1,inplace=True)\n"
          ]
        }
      ],
      "source": [
        "obesity_data.Gender.unique()\n",
        "obesity_data.replace(\"female\",0,inplace=True)\n",
        "obesity_data.replace(\"male\",1,inplace=True)"
      ]
    },
    {
      "cell_type": "code",
      "execution_count": 22,
      "metadata": {
        "id": "x_v6emy2Iw7q"
      },
      "outputs": [
        {
          "name": "stderr",
          "output_type": "stream",
          "text": [
            "/var/folders/4s/bfs93j3x2rl1nkns6mld6m_w0000gn/T/ipykernel_2561/1151749297.py:4: FutureWarning: Downcasting behavior in `replace` is deprecated and will be removed in a future version. To retain the old behavior, explicitly call `result.infer_objects(copy=False)`. To opt-in to the future behavior, set `pd.set_option('future.no_silent_downcasting', True)`\n",
            "  obesity_data.replace(\"always\",4,inplace=True)\n"
          ]
        }
      ],
      "source": [
        "obesity_data.FCVC.unique()\n",
        "obesity_data.replace(\"never\",2,inplace=True)\n",
        "obesity_data.replace(\"sometimes\",3,inplace=True)\n",
        "obesity_data.replace(\"always\",4,inplace=True)"
      ]
    },
    {
      "cell_type": "code",
      "execution_count": 23,
      "metadata": {
        "id": "JZLusBu3I0Gg"
      },
      "outputs": [],
      "source": [
        "obesity_data.NCP.unique()\n",
        "obesity_data.replace(\"1\",0,inplace=True)\n",
        "obesity_data.replace(\"2\",1,inplace=True)\n",
        "obesity_data.replace(\"3\",2,inplace=True)\n",
        "obesity_data.replace(\"4\",3,inplace=True)"
      ]
    },
    {
      "cell_type": "code",
      "execution_count": 24,
      "metadata": {
        "id": "qPAHR-H9I2Vr"
      },
      "outputs": [
        {
          "name": "stderr",
          "output_type": "stream",
          "text": [
            "/var/folders/4s/bfs93j3x2rl1nkns6mld6m_w0000gn/T/ipykernel_2561/3497247678.py:2: FutureWarning: Downcasting behavior in `replace` is deprecated and will be removed in a future version. To retain the old behavior, explicitly call `result.infer_objects(copy=False)`. To opt-in to the future behavior, set `pd.set_option('future.no_silent_downcasting', True)`\n",
            "  obesity_data.replace(\"frequently\",5,inplace=True)\n"
          ]
        }
      ],
      "source": [
        "obesity_data.CAEC.unique()\n",
        "obesity_data.replace(\"frequently\",5,inplace=True)"
      ]
    },
    {
      "cell_type": "code",
      "execution_count": 25,
      "metadata": {
        "id": "8fKfLseUI4a_"
      },
      "outputs": [
        {
          "name": "stderr",
          "output_type": "stream",
          "text": [
            "/var/folders/4s/bfs93j3x2rl1nkns6mld6m_w0000gn/T/ipykernel_2561/3131903672.py:4: FutureWarning: Downcasting behavior in `replace` is deprecated and will be removed in a future version. To retain the old behavior, explicitly call `result.infer_objects(copy=False)`. To opt-in to the future behavior, set `pd.set_option('future.no_silent_downcasting', True)`\n",
            "  obesity_data.replace(\"more than 2 l\",2,inplace=True)\n"
          ]
        }
      ],
      "source": [
        "obesity_data.CH2O.unique()\n",
        "obesity_data.replace(\"between 1 and 2 l\",0,inplace=True)\n",
        "obesity_data.replace(\"less than a liter\",1,inplace=True)\n",
        "obesity_data.replace(\"more than 2 l\",2,inplace=True)"
      ]
    },
    {
      "cell_type": "code",
      "execution_count": 26,
      "metadata": {
        "id": "rtW3rEr5I6EG"
      },
      "outputs": [
        {
          "name": "stderr",
          "output_type": "stream",
          "text": [
            "/var/folders/4s/bfs93j3x2rl1nkns6mld6m_w0000gn/T/ipykernel_2561/1019827759.py:5: FutureWarning: Downcasting behavior in `replace` is deprecated and will be removed in a future version. To retain the old behavior, explicitly call `result.infer_objects(copy=False)`. To opt-in to the future behavior, set `pd.set_option('future.no_silent_downcasting', True)`\n",
            "  obesity_data.replace(\"4 to 5\",3,inplace=True)\n"
          ]
        }
      ],
      "source": [
        "obesity_data.FAF.unique()\n",
        "obesity_data.replace(\"0\",0,inplace=True)\n",
        "obesity_data.replace(\"1 to 2\",1,inplace=True)\n",
        "obesity_data.replace(\"2 to 4\",2,inplace=True)\n",
        "obesity_data.replace(\"4 to 5\",3,inplace=True)"
      ]
    },
    {
      "cell_type": "code",
      "execution_count": 27,
      "metadata": {
        "id": "g6QpRzFVI8Hv"
      },
      "outputs": [
        {
          "name": "stderr",
          "output_type": "stream",
          "text": [
            "/var/folders/4s/bfs93j3x2rl1nkns6mld6m_w0000gn/T/ipykernel_2561/304662073.py:4: FutureWarning: Downcasting behavior in `replace` is deprecated and will be removed in a future version. To retain the old behavior, explicitly call `result.infer_objects(copy=False)`. To opt-in to the future behavior, set `pd.set_option('future.no_silent_downcasting', True)`\n",
            "  obesity_data.replace(\">5\",2,inplace=True)\n"
          ]
        }
      ],
      "source": [
        "obesity_data.TUE.unique()\n",
        "obesity_data.replace(\"0 to 2\",0,inplace=True)\n",
        "obesity_data.replace(\"3 to 5\",1,inplace=True)\n",
        "obesity_data.replace(\">5\",2,inplace=True)"
      ]
    },
    {
      "cell_type": "code",
      "execution_count": 28,
      "metadata": {
        "id": "3wEhsvvfI-FB"
      },
      "outputs": [
        {
          "name": "stderr",
          "output_type": "stream",
          "text": [
            "/var/folders/4s/bfs93j3x2rl1nkns6mld6m_w0000gn/T/ipykernel_2561/3541653203.py:6: FutureWarning: Downcasting behavior in `replace` is deprecated and will be removed in a future version. To retain the old behavior, explicitly call `result.infer_objects(copy=False)`. To opt-in to the future behavior, set `pd.set_option('future.no_silent_downcasting', True)`\n",
            "  obesity_data.replace(\"public_transportation\",4,inplace=True)\n"
          ]
        }
      ],
      "source": [
        "obesity_data.MTRANS.unique()\n",
        "obesity_data.replace(\"walking\",0,inplace=True)\n",
        "obesity_data.replace(\"bike\",1,inplace=True)\n",
        "obesity_data.replace(\"motorbike\",2,inplace=True)\n",
        "obesity_data.replace(\"automobile\",3,inplace=True)\n",
        "obesity_data.replace(\"public_transportation\",4,inplace=True)"
      ]
    },
    {
      "cell_type": "code",
      "execution_count": 29,
      "metadata": {
        "colab": {
          "base_uri": "https://localhost:8080/",
          "height": 226
        },
        "id": "lGQ1rQ_xJCDm",
        "outputId": "67dfbd03-deb6-47c3-ac07-e9f102490e2c"
      },
      "outputs": [
        {
          "data": {
            "text/html": [
              "<div>\n",
              "<style scoped>\n",
              "    .dataframe tbody tr th:only-of-type {\n",
              "        vertical-align: middle;\n",
              "    }\n",
              "\n",
              "    .dataframe tbody tr th {\n",
              "        vertical-align: top;\n",
              "    }\n",
              "\n",
              "    .dataframe thead th {\n",
              "        text-align: right;\n",
              "    }\n",
              "</style>\n",
              "<table border=\"1\" class=\"dataframe\">\n",
              "  <thead>\n",
              "    <tr style=\"text-align: right;\">\n",
              "      <th></th>\n",
              "      <th>Gender</th>\n",
              "      <th>Age</th>\n",
              "      <th>Height</th>\n",
              "      <th>Weight</th>\n",
              "      <th>family_history_with_overweight</th>\n",
              "      <th>FAVC</th>\n",
              "      <th>FCVC</th>\n",
              "      <th>NCP</th>\n",
              "      <th>CAEC</th>\n",
              "      <th>SMOKE</th>\n",
              "      <th>CH2O</th>\n",
              "      <th>SCC</th>\n",
              "      <th>FAF</th>\n",
              "      <th>TUE</th>\n",
              "      <th>CALC</th>\n",
              "      <th>MTRANS</th>\n",
              "      <th>NObeyesdad</th>\n",
              "      <th>BMI</th>\n",
              "    </tr>\n",
              "  </thead>\n",
              "  <tbody>\n",
              "    <tr>\n",
              "      <th>2106</th>\n",
              "      <td>0</td>\n",
              "      <td>21</td>\n",
              "      <td>1.71</td>\n",
              "      <td>131</td>\n",
              "      <td>1</td>\n",
              "      <td>1</td>\n",
              "      <td>4</td>\n",
              "      <td>3</td>\n",
              "      <td>3</td>\n",
              "      <td>0</td>\n",
              "      <td>0</td>\n",
              "      <td>0</td>\n",
              "      <td>2</td>\n",
              "      <td>1</td>\n",
              "      <td>3</td>\n",
              "      <td>4</td>\n",
              "      <td>obesity_type_iii</td>\n",
              "      <td>44.901475</td>\n",
              "    </tr>\n",
              "    <tr>\n",
              "      <th>2107</th>\n",
              "      <td>0</td>\n",
              "      <td>22</td>\n",
              "      <td>1.75</td>\n",
              "      <td>134</td>\n",
              "      <td>1</td>\n",
              "      <td>1</td>\n",
              "      <td>4</td>\n",
              "      <td>3</td>\n",
              "      <td>3</td>\n",
              "      <td>0</td>\n",
              "      <td>0</td>\n",
              "      <td>0</td>\n",
              "      <td>1</td>\n",
              "      <td>1</td>\n",
              "      <td>3</td>\n",
              "      <td>4</td>\n",
              "      <td>obesity_type_iii</td>\n",
              "      <td>43.741923</td>\n",
              "    </tr>\n",
              "    <tr>\n",
              "      <th>2108</th>\n",
              "      <td>0</td>\n",
              "      <td>23</td>\n",
              "      <td>1.75</td>\n",
              "      <td>134</td>\n",
              "      <td>1</td>\n",
              "      <td>1</td>\n",
              "      <td>4</td>\n",
              "      <td>3</td>\n",
              "      <td>3</td>\n",
              "      <td>0</td>\n",
              "      <td>0</td>\n",
              "      <td>0</td>\n",
              "      <td>1</td>\n",
              "      <td>1</td>\n",
              "      <td>3</td>\n",
              "      <td>4</td>\n",
              "      <td>obesity_type_iii</td>\n",
              "      <td>43.543817</td>\n",
              "    </tr>\n",
              "    <tr>\n",
              "      <th>2109</th>\n",
              "      <td>0</td>\n",
              "      <td>24</td>\n",
              "      <td>1.74</td>\n",
              "      <td>133</td>\n",
              "      <td>1</td>\n",
              "      <td>1</td>\n",
              "      <td>4</td>\n",
              "      <td>3</td>\n",
              "      <td>3</td>\n",
              "      <td>0</td>\n",
              "      <td>2</td>\n",
              "      <td>0</td>\n",
              "      <td>1</td>\n",
              "      <td>1</td>\n",
              "      <td>3</td>\n",
              "      <td>4</td>\n",
              "      <td>obesity_type_iii</td>\n",
              "      <td>44.071535</td>\n",
              "    </tr>\n",
              "    <tr>\n",
              "      <th>2110</th>\n",
              "      <td>0</td>\n",
              "      <td>24</td>\n",
              "      <td>1.74</td>\n",
              "      <td>133</td>\n",
              "      <td>1</td>\n",
              "      <td>1</td>\n",
              "      <td>4</td>\n",
              "      <td>3</td>\n",
              "      <td>3</td>\n",
              "      <td>0</td>\n",
              "      <td>2</td>\n",
              "      <td>0</td>\n",
              "      <td>1</td>\n",
              "      <td>1</td>\n",
              "      <td>3</td>\n",
              "      <td>4</td>\n",
              "      <td>obesity_type_iii</td>\n",
              "      <td>44.144338</td>\n",
              "    </tr>\n",
              "  </tbody>\n",
              "</table>\n",
              "</div>"
            ],
            "text/plain": [
              "      Gender  Age  Height  Weight  family_history_with_overweight  FAVC  FCVC  \\\n",
              "2106       0   21    1.71     131                               1     1     4   \n",
              "2107       0   22    1.75     134                               1     1     4   \n",
              "2108       0   23    1.75     134                               1     1     4   \n",
              "2109       0   24    1.74     133                               1     1     4   \n",
              "2110       0   24    1.74     133                               1     1     4   \n",
              "\n",
              "      NCP  CAEC  SMOKE  CH2O  SCC  FAF  TUE  CALC  MTRANS        NObeyesdad  \\\n",
              "2106    3     3      0     0    0    2    1     3       4  obesity_type_iii   \n",
              "2107    3     3      0     0    0    1    1     3       4  obesity_type_iii   \n",
              "2108    3     3      0     0    0    1    1     3       4  obesity_type_iii   \n",
              "2109    3     3      0     2    0    1    1     3       4  obesity_type_iii   \n",
              "2110    3     3      0     2    0    1    1     3       4  obesity_type_iii   \n",
              "\n",
              "            BMI  \n",
              "2106  44.901475  \n",
              "2107  43.741923  \n",
              "2108  43.543817  \n",
              "2109  44.071535  \n",
              "2110  44.144338  "
            ]
          },
          "execution_count": 29,
          "metadata": {},
          "output_type": "execute_result"
        }
      ],
      "source": [
        "obesity_data.tail()"
      ]
    },
    {
      "cell_type": "code",
      "execution_count": 30,
      "metadata": {
        "id": "0gyqmKPJut3v"
      },
      "outputs": [],
      "source": [
        "# Split the data into training and testing\n",
        "features = [\"Gender\", \"Age\", \"Height\", \"Weight\", \"family_history_with_overweight\", \"FAVC\", \"FCVC\", \"NCP\", \"CAEC\", \"SMOKE\", \"CH2O\", \"SCC\", \"FAF\", \"TUE\", \"CALC\", \"MTRANS\", \"BMI\"]\n",
        "#x = pd.get_dummies(obesity_data[features])\n",
        "x = obesity_data[features]\n",
        "#x = [\"Gender\", \"Age\", \"Height\", \"Weight\", \"family_history_with_overweight\", \"FAVC\", \"FCVC\", \"NCP\", \"CAEC\", \"SMOKE\", \"CH2O\", \"SCC\", \"FAF\", \"TUE\", \"CALC\", \"MTRANS\", \"BMI\"]\n",
        "y = obesity_data[\"NObeyesdad\"]"
      ]
    },
    {
      "cell_type": "code",
      "execution_count": 31,
      "metadata": {
        "colab": {
          "base_uri": "https://localhost:8080/"
        },
        "id": "AY67KmzhJNTA",
        "outputId": "4ba2604c-5e72-4cd7-a97d-6ac41cd27c37"
      },
      "outputs": [
        {
          "name": "stdout",
          "output_type": "stream",
          "text": [
            "True labels: 544     insufficient_weight\n",
            "1987       obesity_type_iii\n",
            "420     insufficient_weight\n",
            "527     insufficient_weight\n",
            "196           normal_weight\n",
            "               ...         \n",
            "447      overweight_level_i\n",
            "1793        obesity_type_ii\n",
            "73            normal_weight\n",
            "1711        obesity_type_ii\n",
            "1103    overweight_level_ii\n",
            "Name: NObeyesdad, Length: 423, dtype: object\n",
            "Predicted labels: ['insufficient_weight' 'obesity_type_iii' 'insufficient_weight'\n",
            " 'insufficient_weight' 'overweight_level_ii' 'insufficient_weight'\n",
            " 'obesity_type_ii' 'overweight_level_i' 'obesity_type_i'\n",
            " 'insufficient_weight' 'obesity_type_i' 'obesity_type_iii'\n",
            " 'obesity_type_ii' 'obesity_type_ii' 'obesity_type_iii'\n",
            " 'overweight_level_ii' 'obesity_type_iii' 'obesity_type_ii'\n",
            " 'obesity_type_i' 'overweight_level_ii' 'obesity_type_i'\n",
            " 'overweight_level_i' 'obesity_type_iii' 'obesity_type_ii' 'normal_weight'\n",
            " 'overweight_level_ii' 'overweight_level_ii' 'obesity_type_iii'\n",
            " 'obesity_type_iii' 'insufficient_weight' 'obesity_type_iii'\n",
            " 'overweight_level_ii' 'overweight_level_i' 'normal_weight'\n",
            " 'insufficient_weight' 'obesity_type_iii' 'obesity_type_i' 'normal_weight'\n",
            " 'normal_weight' 'normal_weight' 'insufficient_weight' 'obesity_type_ii'\n",
            " 'normal_weight' 'normal_weight' 'overweight_level_i'\n",
            " 'insufficient_weight' 'obesity_type_ii' 'normal_weight' 'obesity_type_i'\n",
            " 'obesity_type_ii' 'overweight_level_i' 'normal_weight' 'normal_weight'\n",
            " 'overweight_level_i' 'insufficient_weight' 'overweight_level_ii'\n",
            " 'obesity_type_ii' 'obesity_type_ii' 'overweight_level_i'\n",
            " 'obesity_type_ii' 'normal_weight' 'obesity_type_iii'\n",
            " 'overweight_level_ii' 'insufficient_weight' 'obesity_type_ii'\n",
            " 'obesity_type_i' 'normal_weight' 'obesity_type_iii' 'insufficient_weight'\n",
            " 'normal_weight' 'overweight_level_ii' 'obesity_type_i'\n",
            " 'insufficient_weight' 'insufficient_weight' 'overweight_level_i'\n",
            " 'obesity_type_ii' 'obesity_type_ii' 'overweight_level_i'\n",
            " 'obesity_type_iii' 'obesity_type_ii' 'overweight_level_i'\n",
            " 'obesity_type_i' 'obesity_type_ii' 'obesity_type_ii' 'obesity_type_i'\n",
            " 'obesity_type_i' 'overweight_level_i' 'overweight_level_i'\n",
            " 'normal_weight' 'overweight_level_ii' 'overweight_level_ii'\n",
            " 'obesity_type_ii' 'insufficient_weight' 'obesity_type_i'\n",
            " 'obesity_type_iii' 'insufficient_weight' 'normal_weight' 'obesity_type_i'\n",
            " 'overweight_level_i' 'obesity_type_ii' 'obesity_type_i' 'obesity_type_i'\n",
            " 'obesity_type_iii' 'obesity_type_i' 'overweight_level_ii'\n",
            " 'obesity_type_i' 'normal_weight' 'obesity_type_iii' 'obesity_type_iii'\n",
            " 'obesity_type_ii' 'obesity_type_i' 'normal_weight' 'overweight_level_ii'\n",
            " 'normal_weight' 'insufficient_weight' 'obesity_type_i' 'obesity_type_i'\n",
            " 'obesity_type_ii' 'overweight_level_ii' 'overweight_level_i'\n",
            " 'obesity_type_iii' 'obesity_type_ii' 'obesity_type_i'\n",
            " 'overweight_level_i' 'normal_weight' 'obesity_type_ii' 'obesity_type_i'\n",
            " 'obesity_type_i' 'obesity_type_iii' 'obesity_type_ii' 'obesity_type_iii'\n",
            " 'obesity_type_ii' 'normal_weight' 'obesity_type_ii' 'overweight_level_ii'\n",
            " 'obesity_type_iii' 'insufficient_weight' 'obesity_type_iii'\n",
            " 'overweight_level_i' 'obesity_type_iii' 'overweight_level_ii'\n",
            " 'overweight_level_i' 'insufficient_weight' 'insufficient_weight'\n",
            " 'overweight_level_i' 'obesity_type_ii' 'obesity_type_i'\n",
            " 'obesity_type_iii' 'insufficient_weight' 'obesity_type_ii'\n",
            " 'insufficient_weight' 'insufficient_weight' 'insufficient_weight'\n",
            " 'obesity_type_ii' 'obesity_type_i' 'overweight_level_ii'\n",
            " 'overweight_level_ii' 'overweight_level_ii' 'insufficient_weight'\n",
            " 'insufficient_weight' 'overweight_level_i' 'insufficient_weight'\n",
            " 'obesity_type_i' 'insufficient_weight' 'obesity_type_ii'\n",
            " 'insufficient_weight' 'obesity_type_ii' 'overweight_level_i'\n",
            " 'overweight_level_i' 'overweight_level_ii' 'overweight_level_i'\n",
            " 'overweight_level_ii' 'obesity_type_ii' 'obesity_type_iii'\n",
            " 'obesity_type_i' 'overweight_level_ii' 'obesity_type_i'\n",
            " 'overweight_level_ii' 'overweight_level_ii' 'overweight_level_ii'\n",
            " 'insufficient_weight' 'obesity_type_ii' 'insufficient_weight'\n",
            " 'overweight_level_i' 'obesity_type_ii' 'obesity_type_i'\n",
            " 'overweight_level_i' 'obesity_type_iii' 'obesity_type_ii'\n",
            " 'obesity_type_ii' 'insufficient_weight' 'obesity_type_iii'\n",
            " 'insufficient_weight' 'normal_weight' 'obesity_type_iii' 'normal_weight'\n",
            " 'obesity_type_ii' 'obesity_type_i' 'obesity_type_iii'\n",
            " 'insufficient_weight' 'obesity_type_ii' 'obesity_type_ii'\n",
            " 'obesity_type_iii' 'obesity_type_iii' 'normal_weight' 'obesity_type_iii'\n",
            " 'overweight_level_i' 'overweight_level_ii' 'obesity_type_ii'\n",
            " 'obesity_type_iii' 'overweight_level_i' 'obesity_type_i'\n",
            " 'insufficient_weight' 'obesity_type_i' 'obesity_type_ii'\n",
            " 'insufficient_weight' 'overweight_level_i' 'obesity_type_ii'\n",
            " 'obesity_type_ii' 'obesity_type_i' 'obesity_type_iii'\n",
            " 'overweight_level_ii' 'obesity_type_ii' 'normal_weight' 'obesity_type_ii'\n",
            " 'overweight_level_ii' 'insufficient_weight' 'obesity_type_iii'\n",
            " 'normal_weight' 'overweight_level_i' 'overweight_level_i'\n",
            " 'obesity_type_iii' 'normal_weight' 'overweight_level_i'\n",
            " 'overweight_level_i' 'obesity_type_i' 'obesity_type_i' 'obesity_type_i'\n",
            " 'overweight_level_ii' 'insufficient_weight' 'overweight_level_ii'\n",
            " 'overweight_level_ii' 'overweight_level_i' 'overweight_level_ii'\n",
            " 'overweight_level_ii' 'obesity_type_i' 'normal_weight' 'obesity_type_i'\n",
            " 'obesity_type_i' 'insufficient_weight' 'overweight_level_i'\n",
            " 'obesity_type_i' 'insufficient_weight' 'overweight_level_ii'\n",
            " 'normal_weight' 'overweight_level_i' 'obesity_type_i' 'obesity_type_ii'\n",
            " 'obesity_type_i' 'obesity_type_i' 'obesity_type_iii' 'obesity_type_iii'\n",
            " 'overweight_level_i' 'obesity_type_i' 'obesity_type_i' 'obesity_type_iii'\n",
            " 'obesity_type_iii' 'normal_weight' 'normal_weight' 'obesity_type_iii'\n",
            " 'obesity_type_ii' 'obesity_type_iii' 'overweight_level_ii'\n",
            " 'obesity_type_i' 'obesity_type_ii' 'obesity_type_i' 'obesity_type_ii'\n",
            " 'obesity_type_iii' 'obesity_type_ii' 'insufficient_weight'\n",
            " 'insufficient_weight' 'overweight_level_i' 'overweight_level_ii'\n",
            " 'obesity_type_iii' 'obesity_type_iii' 'overweight_level_i'\n",
            " 'obesity_type_i' 'overweight_level_ii' 'insufficient_weight'\n",
            " 'obesity_type_ii' 'obesity_type_i' 'overweight_level_ii' 'normal_weight'\n",
            " 'obesity_type_ii' 'insufficient_weight' 'overweight_level_i'\n",
            " 'obesity_type_ii' 'obesity_type_ii' 'overweight_level_ii'\n",
            " 'overweight_level_ii' 'normal_weight' 'overweight_level_i'\n",
            " 'insufficient_weight' 'insufficient_weight' 'overweight_level_i'\n",
            " 'normal_weight' 'overweight_level_ii' 'overweight_level_i'\n",
            " 'overweight_level_ii' 'obesity_type_iii' 'overweight_level_i'\n",
            " 'obesity_type_ii' 'normal_weight' 'obesity_type_iii' 'overweight_level_i'\n",
            " 'overweight_level_ii' 'obesity_type_i' 'obesity_type_iii'\n",
            " 'overweight_level_ii' 'normal_weight' 'insufficient_weight'\n",
            " 'normal_weight' 'obesity_type_iii' 'normal_weight' 'normal_weight'\n",
            " 'obesity_type_iii' 'obesity_type_i' 'obesity_type_i' 'obesity_type_iii'\n",
            " 'insufficient_weight' 'normal_weight' 'normal_weight' 'obesity_type_ii'\n",
            " 'obesity_type_iii' 'obesity_type_i' 'overweight_level_i' 'obesity_type_i'\n",
            " 'insufficient_weight' 'insufficient_weight' 'normal_weight'\n",
            " 'obesity_type_i' 'obesity_type_iii' 'overweight_level_i' 'obesity_type_i'\n",
            " 'obesity_type_iii' 'obesity_type_ii' 'overweight_level_i'\n",
            " 'obesity_type_ii' 'overweight_level_i' 'overweight_level_ii'\n",
            " 'overweight_level_ii' 'obesity_type_iii' 'overweight_level_ii'\n",
            " 'normal_weight' 'insufficient_weight' 'overweight_level_ii'\n",
            " 'overweight_level_ii' 'obesity_type_i' 'overweight_level_i'\n",
            " 'overweight_level_ii' 'overweight_level_ii' 'obesity_type_ii'\n",
            " 'obesity_type_iii' 'obesity_type_i' 'obesity_type_ii' 'obesity_type_iii'\n",
            " 'obesity_type_i' 'overweight_level_ii' 'overweight_level_i'\n",
            " 'obesity_type_iii' 'insufficient_weight' 'obesity_type_i' 'normal_weight'\n",
            " 'obesity_type_ii' 'obesity_type_i' 'overweight_level_i'\n",
            " 'insufficient_weight' 'normal_weight' 'obesity_type_i' 'obesity_type_i'\n",
            " 'overweight_level_ii' 'overweight_level_ii' 'overweight_level_i'\n",
            " 'insufficient_weight' 'obesity_type_iii' 'overweight_level_i'\n",
            " 'obesity_type_iii' 'obesity_type_iii' 'normal_weight' 'obesity_type_i'\n",
            " 'obesity_type_ii' 'overweight_level_i' 'obesity_type_iii'\n",
            " 'overweight_level_ii' 'obesity_type_ii' 'overweight_level_i'\n",
            " 'insufficient_weight' 'obesity_type_iii' 'overweight_level_i'\n",
            " 'obesity_type_iii' 'normal_weight' 'insufficient_weight' 'normal_weight'\n",
            " 'overweight_level_i' 'obesity_type_i' 'normal_weight'\n",
            " 'insufficient_weight' 'obesity_type_iii' 'normal_weight'\n",
            " 'obesity_type_iii' 'overweight_level_ii' 'overweight_level_ii'\n",
            " 'overweight_level_i' 'overweight_level_i' 'obesity_type_iii'\n",
            " 'insufficient_weight' 'overweight_level_i' 'obesity_type_ii'\n",
            " 'overweight_level_i' 'obesity_type_ii' 'normal_weight' 'obesity_type_ii'\n",
            " 'overweight_level_ii']\n"
          ]
        },
        {
          "name": "stderr",
          "output_type": "stream",
          "text": [
            "/Users/keyla/Library/Python/3.9/lib/python/site-packages/sklearn/linear_model/_logistic.py:469: ConvergenceWarning: lbfgs failed to converge (status=1):\n",
            "STOP: TOTAL NO. of ITERATIONS REACHED LIMIT.\n",
            "\n",
            "Increase the number of iterations (max_iter) or scale the data as shown in:\n",
            "    https://scikit-learn.org/stable/modules/preprocessing.html\n",
            "Please also refer to the documentation for alternative solver options:\n",
            "    https://scikit-learn.org/stable/modules/linear_model.html#logistic-regression\n",
            "  n_iter_i = _check_optimize_result(\n"
          ]
        }
      ],
      "source": [
        "from sklearn.datasets import load_iris\n",
        "from sklearn.model_selection import train_test_split\n",
        "from sklearn.linear_model import LogisticRegression\n",
        "\n",
        "# Split the data into training and testing sets\n",
        "x_train, x_test, y_train, y_test = train_test_split(x, y, test_size=0.2, random_state=42)\n",
        "\n",
        "# Initialize the logistic regression classifier\n",
        "model = LogisticRegression(max_iter=1000)\n",
        "\n",
        "# Train the classifier\n",
        "model.fit(x_train, y_train)\n",
        "\n",
        "# Predict labels for the test set\n",
        "y_test_pred = model.predict(x_test)\n",
        "\n",
        "# True labels for the test set\n",
        "true_labels = y_test\n",
        "\n",
        "print(\"True labels:\", true_labels)\n",
        "print(\"Predicted labels:\", y_test_pred)"
      ]
    },
    {
      "cell_type": "code",
      "execution_count": 32,
      "metadata": {
        "colab": {
          "base_uri": "https://localhost:8080/"
        },
        "id": "nRWl6EoYCImI",
        "outputId": "2d3e9c6a-2e6f-44e0-b944-2be0e86761ee"
      },
      "outputs": [
        {
          "data": {
            "text/plain": [
              "Index(['Gender', 'Age', 'Height', 'Weight', 'family_history_with_overweight',\n",
              "       'FAVC', 'FCVC', 'NCP', 'CAEC', 'SMOKE', 'CH2O', 'SCC', 'FAF', 'TUE',\n",
              "       'CALC', 'MTRANS', 'BMI'],\n",
              "      dtype='object')"
            ]
          },
          "execution_count": 32,
          "metadata": {},
          "output_type": "execute_result"
        }
      ],
      "source": [
        "x.columns"
      ]
    },
    {
      "cell_type": "code",
      "execution_count": 33,
      "metadata": {
        "colab": {
          "base_uri": "https://localhost:8080/"
        },
        "id": "miI8sYc0bULa",
        "outputId": "22401735-a0f0-4f79-d5f7-95babbe88156"
      },
      "outputs": [
        {
          "data": {
            "text/plain": [
              "0             normal_weight\n",
              "1             normal_weight\n",
              "2             normal_weight\n",
              "3        overweight_level_i\n",
              "4       overweight_level_ii\n",
              "               ...         \n",
              "2106       obesity_type_iii\n",
              "2107       obesity_type_iii\n",
              "2108       obesity_type_iii\n",
              "2109       obesity_type_iii\n",
              "2110       obesity_type_iii\n",
              "Name: NObeyesdad, Length: 2111, dtype: object"
            ]
          },
          "execution_count": 33,
          "metadata": {},
          "output_type": "execute_result"
        }
      ],
      "source": [
        "y"
      ]
    },
    {
      "cell_type": "code",
      "execution_count": 34,
      "metadata": {
        "colab": {
          "base_uri": "https://localhost:8080/"
        },
        "id": "aEsnpehaLz39",
        "outputId": "23137a6c-750a-481d-847e-6a4c331e84c9"
      },
      "outputs": [
        {
          "name": "stdout",
          "output_type": "stream",
          "text": [
            "Confusion Matrix:\n",
            "[[54  2  0  0  0  0  0]\n",
            " [ 4 44  0  0  0 12  2]\n",
            " [ 0  0 61  9  3  0  5]\n",
            " [ 0  0  1 57  0  0  0]\n",
            " [ 0  0  0  0 63  0  0]\n",
            " [ 0  4  1  0  0 42  9]\n",
            " [ 0  0  2  0  0  6 42]]\n",
            "Accuracy: 0.8581560283687943\n"
          ]
        }
      ],
      "source": [
        "from sklearn.metrics import confusion_matrix\n",
        "import numpy as np\n",
        "\n",
        "# Calculate confusion matrix\n",
        "cm = confusion_matrix(y_test, y_test_pred)\n",
        "\n",
        "# Print confusion matrix\n",
        "print(\"Confusion Matrix:\")\n",
        "print(cm)\n",
        "\n",
        "# Calculate accuracy\n",
        "accuracy = np.trace(cm) / float(np.sum(cm))\n",
        "print(\"Accuracy:\", accuracy)"
      ]
    },
    {
      "cell_type": "code",
      "execution_count": 47,
      "metadata": {
        "colab": {
          "base_uri": "https://localhost:8080/"
        },
        "id": "JAsn_wIyL8Lj",
        "outputId": "8c83b608-5bbf-47f5-f581-5503c90c72e1"
      },
      "outputs": [
        {
          "name": "stdout",
          "output_type": "stream",
          "text": [
            "Accuracy: 0.8581560283687943\n",
            "\n",
            "Classification Report:\n",
            "                     precision    recall  f1-score   support\n",
            "\n",
            "insufficient_weight       0.93      0.96      0.95        56\n",
            "      normal_weight       0.88      0.71      0.79        62\n",
            "     obesity_type_i       0.94      0.78      0.85        78\n",
            "    obesity_type_ii       0.86      0.98      0.92        58\n",
            "   obesity_type_iii       0.95      1.00      0.98        63\n",
            " overweight_level_i       0.70      0.75      0.72        56\n",
            "overweight_level_ii       0.72      0.84      0.78        50\n",
            "\n",
            "           accuracy                           0.86       423\n",
            "          macro avg       0.86      0.86      0.85       423\n",
            "       weighted avg       0.86      0.86      0.86       423\n",
            "\n"
          ]
        }
      ],
      "source": [
        "from sklearn.metrics import accuracy_score, classification_report\n",
        "\n",
        "# Evaluate the model\n",
        "accuracy = accuracy_score(true_labels, y_test_pred)\n",
        "print(\"Accuracy:\", accuracy)\n",
        "\n",
        "# Classification report\n",
        "print(\"\\nClassification Report:\")\n",
        "print(classification_report(true_labels, y_test_pred))\n",
        "\n",
        "#rmse\n",
        "\n",
        "#mae"
      ]
    },
    {
      "cell_type": "markdown",
      "metadata": {
        "id": "F0vnF2wKnxJ2"
      },
      "source": [
        "1. Explore Features"
      ]
    },
    {
      "cell_type": "code",
      "execution_count": 36,
      "metadata": {
        "id": "x9yAlEHYnWeZ"
      },
      "outputs": [],
      "source": [
        "def count_values(dataset, cat_variable, order = None):\n",
        "    \"\"\"\n",
        "    Function: Counts values in each category and displays them on a plot.\n",
        "\n",
        "    Parameters: Dataset, category feature, and order of appearance (order is optional).\n",
        "    \"\"\"\n",
        "    ax = sns.countplot(x = cat_variable, data = dataset, palette = \"Blues_r\", order = order)\n",
        "    for p in ax.patches:\n",
        "        ax.annotate(f\"\\n{p.get_height()}\", (p.get_x()+0.2, p.get_height()),\n",
        "                    ha = \"center\", va = \"top\", color = \"white\", size = 10)\n",
        "\n",
        "    plt.title(f\"Number of items in each {cat_variable} category\")\n",
        "    plt.show()"
      ]
    },
    {
      "cell_type": "markdown",
      "metadata": {
        "id": "LZ8mGtOjoP87"
      },
      "source": [
        "Gender"
      ]
    },
    {
      "cell_type": "code",
      "execution_count": 37,
      "metadata": {
        "colab": {
          "base_uri": "https://localhost:8080/",
          "height": 579
        },
        "id": "4gGy0oqnoLp_",
        "outputId": "cded0389-bc36-4dc2-d580-08b435737436"
      },
      "outputs": [
        {
          "name": "stderr",
          "output_type": "stream",
          "text": [
            "/var/folders/4s/bfs93j3x2rl1nkns6mld6m_w0000gn/T/ipykernel_2561/3386655578.py:7: FutureWarning: \n",
            "\n",
            "Passing `palette` without assigning `hue` is deprecated and will be removed in v0.14.0. Assign the `x` variable to `hue` and set `legend=False` for the same effect.\n",
            "\n",
            "  ax = sns.countplot(x = cat_variable, data = dataset, palette = \"Blues_r\", order = order)\n"
          ]
        },
        {
          "data": {
            "image/png": "[encoded data removed]",
            "text/plain": [
              "<Figure size 640x480 with 1 Axes>"
            ]
          },
          "metadata": {},
          "output_type": "display_data"
        }
      ],
      "source": [
        "count_values(obesity_data, \"Gender\")"
      ]
    },
    {
      "cell_type": "markdown",
      "metadata": {
        "id": "sfq9oQKlpPA2"
      },
      "source": [
        "Age"
      ]
    },
    {
      "cell_type": "code",
      "execution_count": 38,
      "metadata": {
        "id": "iFgGIp7LpRN-"
      },
      "outputs": [],
      "source": [
        "def plot_distribution(dataset, feature):\n",
        "    \"\"\"\n",
        "    Function: Computes and displays distribution of features with continuous values; plots their mean and median.\n",
        "\n",
        "    Parameters: Dataset and feature with continuous values.\n",
        "    \"\"\"\n",
        "    plt.hist(dataset[feature], bins = \"fd\")\n",
        "\n",
        "    plt.axvline(dataset[feature].mean(), color = \"red\", label = \"mean\")\n",
        "    plt.axvline(dataset[feature].median(), color = \"orange\", label = \"median\")\n",
        "\n",
        "    plt.xlabel(f\"{feature}\")\n",
        "    plt.ylabel(\"Count\")\n",
        "    plt.legend()\n",
        "    plt.title(f\"Distribution of values in {feature}\")\n",
        "    plt.show()"
      ]
    },
    {
      "cell_type": "code",
      "execution_count": 39,
      "metadata": {
        "colab": {
          "base_uri": "https://localhost:8080/"
        },
        "id": "3LKRvpTKpUlA",
        "outputId": "b8e7c319-64a4-4f80-9efd-e9872435174b"
      },
      "outputs": [
        {
          "data": {
            "text/plain": [
              "count    2111.000000\n",
              "mean       24.315964\n",
              "std         6.357078\n",
              "min        14.000000\n",
              "25%        20.000000\n",
              "50%        23.000000\n",
              "75%        26.000000\n",
              "max        61.000000\n",
              "Name: Age, dtype: float64"
            ]
          },
          "execution_count": 39,
          "metadata": {},
          "output_type": "execute_result"
        }
      ],
      "source": [
        "obesity_data[\"Age\"].describe()"
      ]
    },
    {
      "cell_type": "code",
      "execution_count": 40,
      "metadata": {
        "colab": {
          "base_uri": "https://localhost:8080/"
        },
        "id": "VF5iPSM3pXvo",
        "outputId": "2c693389-d2a8-4fda-8077-f79b2387e661"
      },
      "outputs": [
        {
          "data": {
            "text/plain": [
              "23.0"
            ]
          },
          "execution_count": 40,
          "metadata": {},
          "output_type": "execute_result"
        }
      ],
      "source": [
        "obesity_data[\"Age\"].median()"
      ]
    },
    {
      "cell_type": "code",
      "execution_count": 41,
      "metadata": {
        "colab": {
          "base_uri": "https://localhost:8080/",
          "height": 472
        },
        "id": "Zeyazu1Ipa-i",
        "outputId": "37093332-0467-4625-ea46-9d2825b1007f"
      },
      "outputs": [
        {
          "data": {
            "image/png": "[encoded data removed]",
            "text/plain": [
              "<Figure size 640x480 with 1 Axes>"
            ]
          },
          "metadata": {},
          "output_type": "display_data"
        }
      ],
      "source": [
        "plot_distribution(obesity_data, \"Age\")"
      ]
    },
    {
      "cell_type": "code",
      "execution_count": 42,
      "metadata": {
        "id": "jHdhe04Na9N0"
      },
      "outputs": [],
      "source": [
        "import pickle\n",
        "\n",
        "# Assuming you have already trained your logistic regression model and stored it in a variable named 'model'\n",
        "\n",
        "# Save the model to a file\n",
        "with open('logistic_regression_model.pkl', 'wb') as file:\n",
        "    pickle.dump(model, file)\n",
        "\n",
        "# Later, you can load the model from the file\n",
        "with open('logistic_regression_model.pkl', 'rb') as file:\n",
        "    loaded_model = pickle.load(file)\n"
      ]
    },
    {
      "cell_type": "code",
      "execution_count": null,
      "metadata": {
        "id": "x3DEBCqCCImT"
      },
      "outputs": [],
      "source": []
    }
  ],
  "metadata": {
    "colab": {
      "provenance": []
    },
    "kernelspec": {
      "display_name": "Python 3",
      "name": "python3"
    },
    "language_info": {
      "codemirror_mode": {
        "name": "ipython",
        "version": 3
      },
      "file_extension": ".py",
      "mimetype": "text/x-python",
      "name": "python",
      "nbconvert_exporter": "python",
      "pygments_lexer": "ipython3",
      "version": "3.9.6"
    }
  },
  "nbformat": 4,
  "nbformat_minor": 0
}
